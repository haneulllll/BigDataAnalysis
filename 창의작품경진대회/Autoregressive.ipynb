{
 "cells": [
  {
   "cell_type": "code",
   "execution_count": null,
   "id": "8194f9fd-1621-45b7-b411-85d21e3a818c",
   "metadata": {},
   "outputs": [],
   "source": [
    "# 라이브러리 임포트\n",
    "import torch\n",
    "import numpy as np\n",
    "from sklearn.preprocessing import MinMaxScaler"
   ]
  },
  {
   "cell_type": "code",
   "execution_count": null,
   "id": "a64e90fe-5c46-4086-adc8-65e5cdef9b38",
   "metadata": {},
   "outputs": [],
   "source": [
    "# Auto-Regressive Pipline\n",
    "def predict_autoregressive_mc_dropout(model, initial_seq, dest_lat, dest_lon, scaler, max_steps, distance_threshold=0.1, num_mc_samples=10):\n",
    "    \"\"\"\n",
    "    MC Dropout 기반 자가회귀 예측 함수\n",
    "    model: 학습된 모델 (dropout 포함)\n",
    "    num_mc_samples: 매 스텝마다 dropout을 적용하여 몇 번 예측할지\n",
    "    \"\"\"\n",
    "    model.train()  # Dropout 활성화 \n",
    "    input_seq = initial_seq.clone()\n",
    "    all_preds = []\n",
    "\n",
    "    for step in range(max_steps):\n",
    "        input_tensor = input_seq.to(device)\n",
    "\n",
    "        preds = []\n",
    "        with torch.no_grad():  # 불필요한 gradient 계산 방지\n",
    "            for _ in range(num_mc_samples):\n",
    "                pred = model(input_tensor).squeeze(0).cpu().numpy()\n",
    "                preds.append(pred)\n",
    "        \n",
    "        # MC Dropout 결과 평균\n",
    "        pred = np.mean(preds, axis=0)\n",
    "        all_preds.append(pred)\n",
    "\n",
    "        # 역정규화\n",
    "        pred_denorm = scaler.inverse_transform(pred.reshape(1, -1))[0][:4]\n",
    "        pred_lat, pred_lon = pred_denorm[:2]\n",
    "\n",
    "        # 예측 결과 Logging ----------------------------------------------------------------------\n",
    "        if(step % 50 == 0):\n",
    "            print(f\"[Step {step+1}] Predicted: ({pred_lat:.5f}, {pred_lon:.5f}) | \"\n",
    "                  f\"Target: ({dest_lat:.5f}, {dest_lon:.5f}) | \"\n",
    "                  f\"ΔLat: {abs(pred_lat - dest_lat):.5f}, ΔLon: {abs(pred_lon - dest_lon):.5f}\")\n",
    "        # ---------------------------------------------------------------------------------------\n",
    "        # 목적지 도착 유무 판단 매커니즘 ----------------------------------------------------------\n",
    "        if abs(pred_lat - dest_lat) < distance_threshold and abs(pred_lon - dest_lon) < distance_threshold:\n",
    "            print(f\"🚢 목적지 도달 - Step: {step + 1}, {int(step/120)} 시간 {int((step%120)/2)} 분 소요\")\n",
    "            break\n",
    "        # ---------------------------------------------------------------------------------------\n",
    "        \n",
    "        # 입력 시퀀스 업데이트\n",
    "        delta_lat = dest_lat - pred_lat\n",
    "        delta_lon = dest_lon - pred_lon\n",
    "        distance = np.sqrt(delta_lat ** 2 + delta_lon ** 2)\n",
    "\n",
    "        pred_norm = pred.reshape(1, -1)[0]\n",
    "        pred_norm = np.concatenate([pred_norm, [distance]])\n",
    "        next_input = pred_norm\n",
    "\n",
    "        input_seq_np = input_seq.squeeze(0).numpy()\n",
    "        input_seq_np = np.vstack([input_seq_np[1:], next_input])\n",
    "        input_seq = torch.tensor([input_seq_np], dtype=torch.float32)\n",
    "\n",
    "    return np.array(all_preds)"
   ]
  }
 ],
 "metadata": {
  "kernelspec": {
   "display_name": "Python 3 (ipykernel)",
   "language": "python",
   "name": "python3"
  },
  "language_info": {
   "codemirror_mode": {
    "name": "ipython",
    "version": 3
   },
   "file_extension": ".py",
   "mimetype": "text/x-python",
   "name": "python",
   "nbconvert_exporter": "python",
   "pygments_lexer": "ipython3",
   "version": "3.10.8"
  }
 },
 "nbformat": 4,
 "nbformat_minor": 5
}
